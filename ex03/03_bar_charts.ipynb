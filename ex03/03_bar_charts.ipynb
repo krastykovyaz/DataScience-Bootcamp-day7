{
 "cells": [
  {
   "cell_type": "code",
   "execution_count": 1,
   "id": "executed-government",
   "metadata": {},
   "outputs": [
    {
     "name": "stderr",
     "output_type": "stream",
     "text": [
      "/Users/a19028558/Desktop/transfer_accounts/akovyaz/learning_myself/env_school/lib/python3.8/site-packages/pandas/compat/__init__.py:97: UserWarning: Could not import the lzma module. Your installed Python is incomplete. Attempting to use lzma compression will result in a RuntimeError.\n",
      "  warnings.warn(msg)\n"
     ]
    }
   ],
   "source": [
    "import pandas as pd\n",
    "import sqlite3"
   ]
  },
  {
   "cell_type": "code",
   "execution_count": 2,
   "id": "competitive-measurement",
   "metadata": {},
   "outputs": [],
   "source": [
    "connect = sqlite3.connect('../data/checking-logs.sqlite')"
   ]
  },
  {
   "cell_type": "code",
   "execution_count": 3,
   "id": "pharmaceutical-farmer",
   "metadata": {},
   "outputs": [],
   "source": [
    "commit = pd.io.sql.read_sql(\"select cast(strftime('%H', timestamp) as int) as hour, timestamp as datetime from checker where uid LIKE 'user_%'\", con=connect, parse_dates='datetime')"
   ]
  },
  {
   "cell_type": "code",
   "execution_count": 4,
   "id": "micro-hawaiian",
   "metadata": {},
   "outputs": [],
   "source": [
    "commit['is_weekend'] = commit.datetime.dt.weekday.map(lambda x: 1 if x in (5, 6) else 0)\n",
    "commit['date'] = commit.datetime.dt.date\n"
   ]
  },
  {
   "cell_type": "code",
   "execution_count": 5,
   "id": "located-region",
   "metadata": {},
   "outputs": [],
   "source": [
    "df = pd.pivot_table(commit.groupby(['hour', 'is_weekend', 'date']).count().reset_index(),\\\n",
    "                    columns='is_weekend', index='hour', aggfunc='mean', fill_value=0)\\\n",
    "['datetime'][[1, 0]].rename(columns={0: 'weekend', 1:'working_day'})"
   ]
  },
  {
   "cell_type": "code",
   "execution_count": 6,
   "id": "adaptive-johns",
   "metadata": {},
   "outputs": [
    {
     "data": {
      "image/png": "[encoded data removed]",
      "text/plain": [
       "<Figure size 1080x576 with 2 Axes>"
      ]
     },
     "metadata": {
      "needs_background": "light"
     },
     "output_type": "display_data"
    }
   ],
   "source": [
    "df.plot.bar(figsize=(15, 8), rot=90, subplots=True);"
   ]
  },
  {
   "cell_type": "markdown",
   "id": "swiss-dividend",
   "metadata": {},
   "source": [
    "__Да, отличается__"
   ]
  },
  {
   "cell_type": "code",
   "execution_count": null,
   "id": "allied-strain",
   "metadata": {},
   "outputs": [],
   "source": []
  }
 ],
 "metadata": {
  "kernelspec": {
   "display_name": "Python 3",
   "language": "python",
   "name": "python3"
  },
  "language_info": {
   "codemirror_mode": {
    "name": "ipython",
    "version": 3
   },
   "file_extension": ".py",
   "mimetype": "text/x-python",
   "name": "python",
   "nbconvert_exporter": "python",
   "pygments_lexer": "ipython3",
   "version": "3.8.0"
  },
  "toc": {
   "base_numbering": 1,
   "nav_menu": {},
   "number_sections": true,
   "sideBar": true,
   "skip_h1_title": false,
   "title_cell": "Table of Contents",
   "title_sidebar": "Contents",
   "toc_cell": false,
   "toc_position": {},
   "toc_section_display": true,
   "toc_window_display": false
  }
 },
 "nbformat": 4,
 "nbformat_minor": 5
}
