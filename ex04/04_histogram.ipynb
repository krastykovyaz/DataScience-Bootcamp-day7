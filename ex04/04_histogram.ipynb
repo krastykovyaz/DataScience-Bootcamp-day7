{
 "cells": [
  {
   "cell_type": "code",
   "execution_count": 1,
   "id": "natural-cannon",
   "metadata": {},
   "outputs": [
    {
     "name": "stderr",
     "output_type": "stream",
     "text": [
      "/Users/a19028558/Desktop/transfer_accounts/akovyaz/learning_myself/env_school/lib/python3.8/site-packages/pandas/compat/__init__.py:97: UserWarning: Could not import the lzma module. Your installed Python is incomplete. Attempting to use lzma compression will result in a RuntimeError.\n",
      "  warnings.warn(msg)\n"
     ]
    }
   ],
   "source": [
    "import pandas as pd\n",
    "import sqlite3\n",
    "import matplotlib.pyplot as plt"
   ]
  },
  {
   "cell_type": "code",
   "execution_count": 2,
   "id": "thirty-debate",
   "metadata": {},
   "outputs": [],
   "source": [
    "connect = sqlite3.connect('../data/checking-logs.sqlite')"
   ]
  },
  {
   "cell_type": "code",
   "execution_count": 3,
   "id": "thrown-adult",
   "metadata": {},
   "outputs": [],
   "source": [
    "commit = pd.io.sql.read_sql(\"select cast(strftime('%H', timestamp) as int) as hour, timestamp as datetime from checker where uid LIKE 'user_%'\", con=connect, parse_dates='datetime')"
   ]
  },
  {
   "cell_type": "code",
   "execution_count": 4,
   "id": "breeding-durham",
   "metadata": {},
   "outputs": [],
   "source": [
    "commit['is_weekend'] = commit.datetime.dt.weekday.map(lambda x: 1 if x in (5, 6) else 0)\n",
    "commit['date'] = commit.datetime.dt.date"
   ]
  },
  {
   "cell_type": "code",
   "execution_count": 5,
   "id": "documented-cause",
   "metadata": {},
   "outputs": [],
   "source": [
    "weekend = commit[commit.is_weekend == 1].hour\n",
    "working = commit[commit.is_weekend != 1].hour"
   ]
  },
  {
   "cell_type": "code",
   "execution_count": 18,
   "id": "italian-dinner",
   "metadata": {},
   "outputs": [
    {
     "data": {
      "image/png": "[encoded data removed]",
      "text/plain": [
       "<Figure size 1080x576 with 1 Axes>"
      ]
     },
     "metadata": {
      "needs_background": "light"
     },
     "output_type": "display_data"
    }
   ],
   "source": [
    "plt.figure(figsize=(15,8))\n",
    "plt.xticks([x / 10.0 for x in range(0, 230, 48)],  map(lambda x : round(x), [x / 10.0 for x in range(0, 250, 50)]))\n",
    "plt.hist(working, alpha=0.7, bins=24,stacked=True)\n",
    "plt.hist(weekend, alpha=0.7, bins=24,stacked=True)\n",
    "plt.legend(['working days', 'weekend']);"
   ]
  },
  {
   "cell_type": "markdown",
   "id": "logical-arbor",
   "metadata": {},
   "source": [
    "__11, 13, 22, 23__"
   ]
  }
 ],
 "metadata": {
  "kernelspec": {
   "display_name": "Python 3",
   "language": "python",
   "name": "python3"
  },
  "language_info": {
   "codemirror_mode": {
    "name": "ipython",
    "version": 3
   },
   "file_extension": ".py",
   "mimetype": "text/x-python",
   "name": "python",
   "nbconvert_exporter": "python",
   "pygments_lexer": "ipython3",
   "version": "3.8.0"
  },
  "toc": {
   "base_numbering": 1,
   "nav_menu": {},
   "number_sections": true,
   "sideBar": true,
   "skip_h1_title": false,
   "title_cell": "Table of Contents",
   "title_sidebar": "Contents",
   "toc_cell": false,
   "toc_position": {},
   "toc_section_display": true,
   "toc_window_display": false
  }
 },
 "nbformat": 4,
 "nbformat_minor": 5
}
